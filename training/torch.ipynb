{
 "cells": [
  {
   "cell_type": "code",
   "execution_count": 117,
   "metadata": {},
   "outputs": [],
   "source": [
    "import numpy as np\n",
    "import pandas as pd\n",
    "from torch import nn\n",
    "from torch.utils.data import Dataset, DataLoader, random_split\n",
    "import torch"
   ]
  },
  {
   "cell_type": "code",
   "execution_count": null,
   "metadata": {},
   "outputs": [],
   "source": [
    "class MLP(nn.Module):\n",
    "    def __init__(self, features_in=2, features_out=3):\n",
    "        super().__init__()\n",
    "\n",
    "        self.net = nn.Sequential(\n",
    "            nn.Linear(features_in, 100),\n",
    "            nn.ReLU(),\n",
    "            nn.Linear(100, 200),\n",
    "            nn.ReLU(),\n",
    "            nn.ReLU(),\n",
    "            nn.Linear(200, 200),\n",
    "            nn.ELU(),\n",
    "            nn.Linear(200, 200),\n",
    "            nn.Linear(200, 100),\n",
    "            nn.ReLU(),\n",
    "            nn.Linear(100, features_out)\n",
    "        )\n",
    "\n",
    "    def forward(self, input):\n",
    "        return self.net(input)"
   ]
  },
  {
   "cell_type": "code",
   "execution_count": 119,
   "metadata": {},
   "outputs": [],
   "source": [
    "class MultiEmoVA(Dataset):\n",
    "    def __init__(self, data_path):\n",
    "        super().__init__()\n",
    "\n",
    "        data = pd.read_csv(data_path)\n",
    "        # everything in pytorch needs to be a tensor\n",
    "        self.inputs = torch.tensor(data.drop(\"emotion\", axis=1).to_numpy(dtype=np.float32))\n",
    "\n",
    "        # we need to transform label (str) to a number. In sklearn, this is done internally\n",
    "        self.index2label = [label for label in data[\"emotion\"].unique()]\n",
    "        label2index = {label: i for i, label in enumerate(self.index2label)}\n",
    "\n",
    "        self.labels = torch.tensor(data[\"emotion\"].apply(lambda x: torch.tensor(label2index[x])))\n",
    "\n",
    "    def __getitem__(self, index):\n",
    "        return self.inputs[index], self.labels[index]\n",
    "\n",
    "    def __len__(self):\n",
    "        return len(self.inputs)"
   ]
  },
  {
   "cell_type": "code",
   "execution_count": 120,
   "metadata": {},
   "outputs": [],
   "source": [
    "dataset = MultiEmoVA(\"aus000800.csv\")\n",
    "\n",
    "# passing a generator to random_split is similar to specifying the seed in sklearn\n",
    "generator = torch.Generator().manual_seed(2023)\n"
   ]
  },
  {
   "cell_type": "code",
   "execution_count": 121,
   "metadata": {},
   "outputs": [
    {
     "name": "stdout",
     "output_type": "stream",
     "text": [
      "Using device: cuda\n"
     ]
    }
   ],
   "source": [
    "# this can also generate multiple sets at the same time with e.g. [0.7, 0.2, 0.1]\n",
    "train, test = random_split(dataset, [0.8, 0.2], generator=generator)\n",
    "\n",
    "train_loader = DataLoader(  # this loads the data that we need dynamically\n",
    "    train,\n",
    "    batch_size=4,  # instead of taking 1 data point at a time we can take more, making our training faster and more stable\n",
    "    shuffle=True  # Shuffles the data between epochs (see below)\n",
    ")\n",
    "model = MLP(train[0][0].shape[0], len(dataset.index2label))\n",
    "\n",
    "optim = torch.optim.SGD(model.parameters(), lr=0.001)\n",
    "\n",
    "loss_fn = nn.CrossEntropyLoss()\n",
    "\n",
    "# Check if we have GPU acceleration, if we do our code will run faster\n",
    "device = \"cuda\" if torch.cuda.is_available() else \"cpu\"\n",
    "# if you are on mac with the new M1, M2, ... chips you can try the following instead of cuda\n",
    "device = \"mps\" if torch.backends.mps.is_available() else device\n",
    "\n",
    "print(f\"Using device: {device}\")\n",
    "\n",
    "# we need to move our model to the correct device\n",
    "model = model.to(device)"
   ]
  },
  {
   "cell_type": "code",
   "execution_count": 122,
   "metadata": {},
   "outputs": [],
   "source": [
    "\n",
    "# it is common to do a training loop multiple times, we call these 'epochs'\n",
    "for epoch in range(100):\n",
    "    for inputs, labels in train_loader:\n",
    "        # both input, output and model need to be on the same device\n",
    "        inputs = inputs.to(device)\n",
    "        labels = labels.to(device)\n",
    "\n",
    "        out = model(inputs)\n",
    "        loss = loss_fn(out, labels)\n",
    "\n",
    "        loss.backward()\n",
    "        optim.step()\n",
    "        optim.zero_grad()\n"
   ]
  },
  {
   "cell_type": "code",
   "execution_count": null,
   "metadata": {},
   "outputs": [
    {
     "name": "stdout",
     "output_type": "stream",
     "text": [
      "Accuracy is: 43.085716247558594%\n"
     ]
    },
    {
     "ename": "",
     "evalue": "",
     "output_type": "error",
     "traceback": [
      "\u001b[1;31mThe Kernel crashed while executing code in the current cell or a previous cell. \n",
      "\u001b[1;31mPlease review the code in the cell(s) to identify a possible cause of the failure. \n",
      "\u001b[1;31mClick <a href='https://aka.ms/vscodeJupyterKernelCrash'>here</a> for more info. \n",
      "\u001b[1;31mView Jupyter <a href='command:jupyter.viewOutput'>log</a> for further details."
     ]
    }
   ],
   "source": [
    "# tell pytorch we're not training anymore\n",
    "with torch.no_grad():\n",
    "    test_loader = DataLoader(test, batch_size=4)\n",
    "    correct = 0\n",
    "    for inputs, labels in test_loader:\n",
    "        inputs = inputs.to(device)\n",
    "        labels = labels.to(device)\n",
    "\n",
    "        predictions = model(inputs)\n",
    "\n",
    "        # Here we go from the models output to a single class and compare to ground truth\n",
    "        correct += (predictions.softmax(dim=1).argmax(dim=1) == labels).sum()\n",
    "    print(f\"Accuracy is: {correct / len(test) * 100}%\")\n"
   ]
  }
 ],
 "metadata": {
  "kernelspec": {
   "display_name": "Python 3 (ipykernel)",
   "language": "python",
   "name": "python3"
  }
 },
 "nbformat": 4,
 "nbformat_minor": 2
}
